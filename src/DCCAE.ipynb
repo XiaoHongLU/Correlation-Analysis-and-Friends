{
 "cells": [
  {
   "cell_type": "code",
   "execution_count": 3,
   "metadata": {
    "collapsed": false
   },
   "outputs": [],
   "source": [
    "import numpy as np\n",
    "import tensorflow as tf\n",
    "import scipy.io\n",
    "from sklearn import preprocessing\n",
    "from sklearn import cross_validation\n",
    "from sklearn import manifold\n",
    "import matplotlib as plt"
   ]
  },
  {
   "cell_type": "code",
   "execution_count": 6,
   "metadata": {
    "collapsed": false
   },
   "outputs": [],
   "source": [
    "fileidxJW11 = scipy.io.loadmat(\"/Users/corbinrosset/Dropbox/XRMB/DATA/FILEIDX/fileidxJW11.mat\")\n",
    "fileidxJW13 = scipy.io.loadmat(\"/Users/corbinrosset/Dropbox/XRMB/DATA/FILEIDX/fileidxJW13.mat\")\n",
    "fileidxJW24 = scipy.io.loadmat(\"/Users/corbinrosset/Dropbox/XRMB/DATA/FILEIDX/fileidxJW24.mat\")\n",
    "fileidxJW30 = scipy.io.loadmat(\"/Users/corbinrosset/Dropbox/XRMB/DATA/FILEIDX/fileidxJW30.mat\")\n",
    "\n",
    "JW11 = scipy.io.loadmat(\"/Users/corbinrosset/Dropbox/XRMB/DATA/MAT/JW11[numfr1=7,numfr2=7].mat\")\n",
    "JW13 = scipy.io.loadmat(\"/Users/corbinrosset/Dropbox/XRMB/DATA/MAT/JW13[numfr1=7,numfr2=7].mat\")\n",
    "JW24 = scipy.io.loadmat(\"/Users/corbinrosset/Dropbox/XRMB/DATA/MAT/JW24[numfr1=7,numfr2=7].mat\")\n",
    "JW30 = scipy.io.loadmat(\"/Users/corbinrosset/Dropbox/XRMB/DATA/MAT/JW30[numfr1=7,numfr2=7].mat\")"
   ]
  },
  {
   "cell_type": "code",
   "execution_count": null,
   "metadata": {
    "collapsed": true
   },
   "outputs": [],
   "source": [
    "print JW11.keys()\n",
    "\n",
    "scaler = preprocessing.StandardScaler()\n",
    "mfcc_features = scaler.fit_transform(preprocessing.normalize(np.transpose(JW11['MFCC'])))\n",
    "articulatory_features = scaler.fit_transform(preprocessing.normalize(np.transpose(JW11['X']).astype(float)))\n",
    "phone_labels = np.transpose(JW11['P'][0])\n",
    "\n",
    "lb = preprocessing.LabelBinarizer() #one hot encoding of labels\n",
    "lb.fit(phone_labels)\n",
    "binarized_labels = lb.transform(phone_labels)\n",
    "\n",
    "n_samples = mfcc_features.shape[0]\n",
    "n_mfcc_features = mfcc_features.shape[1]\n",
    "n_articulatory_features = articulatory_features.shape[1]\n",
    "\n",
    "permutation = np.random.permutation(n_samples)\n",
    "X1 = np.asarray([mfcc_features[i] for i in permutation])\n",
    "X2 = np.asarray([articulatory_features[i] for i in permutation])\n",
    "Y = np.asarray([binarized_labels[i] for i in permutation])\n",
    "Phones = np.asarray([phone_labels[i] for i in permutation])\n",
    "\n",
    "train, dev, test = 25948, 40948, 50948 #15948, 25948, 40948 #use 25948, 40948, 50948\n",
    "\n",
    "X1_tr = X1[0:train, :]\n",
    "X1_dev = X1[train:dev, :]\n",
    "X1_test = X1[dev:test, :]\n",
    "\n",
    "X2_tr = X2[0:train, :]\n",
    "\n",
    "Y_tr = Y[0:train, :]\n",
    "Y_dev = Y[train:dev, :]\n",
    "Y_test = Y[dev:test, :]\n",
    "\n",
    "Phones_tr = Phones[0:train]\n",
    "Phones_dev = Phones[train:dev]\n",
    "Phones_test = Phones[dev:test]\n",
    "\n",
    "baseline_acoustic_tr = X1_tr[:, 118:157]\n",
    "baseline_acoustic_dev = X1_dev[:, 118:157]\n",
    "baseline_acoustic_test = X1_test[:, 118:157]\n",
    "    \n",
    "print X1_tr.shape\n",
    "print X2_tr.shape\n",
    "print Y_tr.shape\n",
    "print baseline_acoustic_tr.shape\n",
    "\n",
    "print X1_tr.shape\n",
    "print X1_dev.shape\n",
    "print X1_test.shape\n",
    "print Phones_tr.shape"
   ]
  },
  {
   "cell_type": "code",
   "execution_count": null,
   "metadata": {
    "collapsed": true
   },
   "outputs": [],
   "source": []
  }
 ],
 "metadata": {
  "kernelspec": {
   "display_name": "Python 2",
   "language": "python",
   "name": "python2"
  },
  "language_info": {
   "codemirror_mode": {
    "name": "ipython",
    "version": 2
   },
   "file_extension": ".py",
   "mimetype": "text/x-python",
   "name": "python",
   "nbconvert_exporter": "python",
   "pygments_lexer": "ipython2",
   "version": "2.7.10"
  }
 },
 "nbformat": 4,
 "nbformat_minor": 0
}
